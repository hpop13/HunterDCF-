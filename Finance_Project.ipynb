{
 "cells": [
  {
   "cell_type": "code",
   "execution_count": null,
   "metadata": {},
   "outputs": [],
   "source": [
    "#API KEY 974b9b83d36dc48184eb17242d335148\n",
    "import requests\n",
    "import pandas as pd\n",
    "\n",
    "base_url = 'https://financialmodelingprep.com/api/v3'\n",
    "data_type = 'ratios'\n",
    "ticker = 'COST'\n",
    "#My API Key from ACCT I created\n",
    "API_KEY = '974b9b83d36dc48184eb17242d335148'\n",
    "url = f'{base_url}/{data_type}/{ticker}?limit=120&apikey={API_KEY}'\n",
    "r = requests.get(url)"
   ]
  },
  {
   "cell_type": "code",
   "execution_count": null,
   "metadata": {},
   "outputs": [],
   "source": [
    "r #this checks the response from the server. 429 - too many requests, 200 - works, 404- not found"
   ]
  },
  {
   "cell_type": "code",
   "execution_count": null,
   "metadata": {},
   "outputs": [],
   "source": [
    "#Use JSON to return data that is consumable to user\n",
    "import json\n",
    "json.loads(r.text)"
   ]
  },
  {
   "cell_type": "code",
   "execution_count": null,
   "metadata": {},
   "outputs": [],
   "source": [
    "#ratios = ['debtToEquity', 'currentRatio', 'quickRatio', 'returnOnEquity', 'grossProfitMargin']\n",
    "\n",
    "info = json.loads(r.text)\n",
    "info[1]['debtEquityRatio']"
   ]
  },
  {
   "cell_type": "code",
   "execution_count": null,
   "metadata": {},
   "outputs": [],
   "source": [
    "#5 most relevant ratios\n",
    "ratio_data = {info[1]['debtEquityRatio'], info[1]['returnOnEquity'],  info[1]['netProfitMargin'], info[1]['quickRatio'], info[1]['dividendYield'],}"
   ]
  },
  {
   "cell_type": "code",
   "execution_count": null,
   "metadata": {},
   "outputs": [],
   "source": [
    "#ratio df\n",
    "ratio_df = pd.DataFrame(ratio_data).T"
   ]
  },
  {
   "cell_type": "code",
   "execution_count": null,
   "metadata": {},
   "outputs": [],
   "source": [
    "#ratios in Df listed out\n",
    "ratio_df"
   ]
  },
  {
   "cell_type": "code",
   "execution_count": null,
   "metadata": {},
   "outputs": [],
   "source": [
    "import requests\n",
    "import pandas as pd\n",
    "import matplotlib.pyplot as plt\n",
    "\n",
    "# Define API parameters\n",
    "base_url = 'https://financialmodelingprep.com/api/v3'\n",
    "data_type = 'historical-price-full'\n",
    "ticker = 'COST'\n",
    "API_KEY = '974b9b83d36dc48184eb17242d335148'\n",
    "url = f'{base_url}/{data_type}/{ticker}?apikey={API_KEY}'\n",
    "\n",
    "# Fetch data from the API\n",
    "response = requests.get(url)\n",
    "data = response.json()\n",
    "\n",
    "# Convert data to DataFrame\n",
    "price_df = pd.DataFrame(data['historical'])\n",
    "\n",
    "# Convert date column to datetime format\n",
    "price_df['date'] = pd.to_datetime(price_df['date'])\n",
    "\n",
    "# Plot stock prices\n",
    "plt.figure(figsize=(10, 6))\n",
    "plt.plot(price_df['date'], price_df['close'], label='Closing Price', color='blue')\n",
    "plt.xlabel('Date')\n",
    "plt.ylabel('Price ($)')\n",
    "plt.title(f'Stock Price for {ticker}')\n",
    "plt.legend()\n",
    "plt.grid(True)\n",
    "plt.show()\n"
   ]
  },
  {
   "cell_type": "code",
   "execution_count": null,
   "metadata": {},
   "outputs": [],
   "source": [
    "# Define API parameters\n",
    "base_url = 'https://financialmodelingprep.com/api/v3'\n",
    "data_type = 'cash-flow-statement'\n",
    "ticker = 'COST'\n",
    "API_KEY = '974b9b83d36dc48184eb17242d335148'\n",
    "url = f'{base_url}/{data_type}/{ticker}?apikey={API_KEY}'\n",
    "\n",
    "# Fetch data from the API\n",
    "response = requests.get(url)\n",
    "data = response.json()\n",
    "\n",
    "# Convert data to DataFrame\n",
    "cash_flow_df = pd.DataFrame(data)\n",
    "\n",
    "# Selecting relevant columns for visualization\n",
    "cash_flow_df = cash_flow_df[['date', 'freeCashFlow']]\n",
    "\n",
    "# Convert date column to datetime format\n",
    "cash_flow_df['date'] = pd.to_datetime(cash_flow_df['date'])\n",
    "\n",
    "# Plotting\n",
    "plt.figure(figsize=(10, 6))\n",
    "plt.plot(cash_flow_df['date'], cash_flow_df['freeCashFlow'], label='Free Cash Flow', color='green')\n",
    "plt.xlabel('Date')\n",
    "plt.ylabel('Free Cash Flow ($)')\n",
    "plt.title(f'Free Cash Flow for {ticker}')\n",
    "plt.legend()\n",
    "plt.grid(True)\n",
    "plt.show()"
   ]
  },
  {
   "cell_type": "code",
   "execution_count": 8,
   "metadata": {},
   "outputs": [
    {
     "ename": "OSError",
     "evalue": "[Errno 22] Invalid argument: 'https://github.com/hpop13/HunterDCF-/blob/0d5172472857b11aad68be7a151d766f07a81be8/FINANCEDCFEXAM.png'",
     "output_type": "error",
     "traceback": [
      "\u001b[1;31m---------------------------------------------------------------------------\u001b[0m",
      "\u001b[1;31mOSError\u001b[0m                                   Traceback (most recent call last)",
      "\u001b[1;32m~\\AppData\\Local\\Temp\\ipykernel_25020\\3465788033.py\u001b[0m in \u001b[0;36m<module>\u001b[1;34m\u001b[0m\n\u001b[0;32m      2\u001b[0m \u001b[1;33m\u001b[0m\u001b[0m\n\u001b[0;32m      3\u001b[0m \u001b[1;31m# Read the image\u001b[0m\u001b[1;33m\u001b[0m\u001b[1;33m\u001b[0m\u001b[0m\n\u001b[1;32m----> 4\u001b[1;33m \u001b[0mim1\u001b[0m \u001b[1;33m=\u001b[0m \u001b[0mImage\u001b[0m\u001b[1;33m.\u001b[0m\u001b[0mopen\u001b[0m\u001b[1;33m(\u001b[0m\u001b[1;34m\"https://github.com/hpop13/HunterDCF-/blob/0d5172472857b11aad68be7a151d766f07a81be8/FINANCEDCFEXAM.png\"\u001b[0m\u001b[1;33m)\u001b[0m\u001b[1;33m\u001b[0m\u001b[1;33m\u001b[0m\u001b[0m\n\u001b[0m\u001b[0;32m      5\u001b[0m \u001b[1;33m\u001b[0m\u001b[0m\n\u001b[0;32m      6\u001b[0m \u001b[0mim1\u001b[0m\u001b[1;33m.\u001b[0m\u001b[0mshow\u001b[0m\u001b[1;33m(\u001b[0m\u001b[1;33m)\u001b[0m\u001b[1;33m\u001b[0m\u001b[1;33m\u001b[0m\u001b[0m\n",
      "\u001b[1;32mc:\\Users\\hunte\\OneDrive - Gonzaga University\\Pyfi\\lib\\site-packages\\PIL\\Image.py\u001b[0m in \u001b[0;36mopen\u001b[1;34m(fp, mode, formats)\u001b[0m\n\u001b[0;32m   3090\u001b[0m \u001b[1;33m\u001b[0m\u001b[0m\n\u001b[0;32m   3091\u001b[0m     \u001b[1;32mif\u001b[0m \u001b[0mfilename\u001b[0m\u001b[1;33m:\u001b[0m\u001b[1;33m\u001b[0m\u001b[1;33m\u001b[0m\u001b[0m\n\u001b[1;32m-> 3092\u001b[1;33m         \u001b[0mfp\u001b[0m \u001b[1;33m=\u001b[0m \u001b[0mbuiltins\u001b[0m\u001b[1;33m.\u001b[0m\u001b[0mopen\u001b[0m\u001b[1;33m(\u001b[0m\u001b[0mfilename\u001b[0m\u001b[1;33m,\u001b[0m \u001b[1;34m\"rb\"\u001b[0m\u001b[1;33m)\u001b[0m\u001b[1;33m\u001b[0m\u001b[1;33m\u001b[0m\u001b[0m\n\u001b[0m\u001b[0;32m   3093\u001b[0m         \u001b[0mexclusive_fp\u001b[0m \u001b[1;33m=\u001b[0m \u001b[1;32mTrue\u001b[0m\u001b[1;33m\u001b[0m\u001b[1;33m\u001b[0m\u001b[0m\n\u001b[0;32m   3094\u001b[0m \u001b[1;33m\u001b[0m\u001b[0m\n",
      "\u001b[1;31mOSError\u001b[0m: [Errno 22] Invalid argument: 'https://github.com/hpop13/HunterDCF-/blob/0d5172472857b11aad68be7a151d766f07a81be8/FINANCEDCFEXAM.png'"
     ]
    }
   ],
   "source": [
    "from PIL import Image\n",
    "#https://github.com/hpop13/HunterDCF-/blob/0d5172472857b11aad68be7a151d766f07a81be8/FINANCEDCFEXAM.png\n",
    "#c:\\Users\\hunte\\Downloads\\FINANCEDCFEXAM.png\n",
    "\n",
    "# Read the image\n",
    "im1 = Image.open(\"https://github.com/hpop13/HunterDCF-/blob/0d5172472857b11aad68be7a151d766f07a81be8/FINANCEDCFEXAM.png\")\n",
    "\n",
    "im1.show()"
   ]
  },
  {
   "cell_type": "code",
   "execution_count": null,
   "metadata": {},
   "outputs": [],
   "source": [
    "import requests\n",
    "\n",
    "# Function to calculate the DCF of an investment\n",
    "#inital_cash_flow is pulled from API, so is growth_rate\n",
    "#discount_rate, years, terminal_growth_rate are manual inputs\n",
    "def calculate_dcf(initial_cash_flow, growth_rate, discount_rate, years, terminal_growth_rate):\n",
    "    #initialize the variable \"dcf\"@ 0; stores cumulative DCFs\n",
    "    dcf = 0\n",
    "     #based on year input \n",
    "    for year in range(1, years + 1):\n",
    "        #project out using our  growth rate and then discount using r\n",
    "        #using 1 CF\n",
    "        discounted_cash_flow = initial_cash_flow * (1 + growth_rate) ** year / ((1 + discount_rate) ** year)\n",
    "        dcf += discounted_cash_flow\n",
    "        #derived using perpetuity formula in finance\n",
    "        #represents the present value of an infinite series of future cash flows.\n",
    "    terminal_value = initial_cash_flow * (1 + terminal_growth_rate) / (discount_rate - terminal_growth_rate)\n",
    "    # This line adds the terminal value to the cumulative discounted cash flow (dcf). This accounts for the cash flows beyond the projection period.\n",
    "    dcf += terminal_value\n",
    "    return dcf\n",
    "\n",
    "# Function to fetch financial data from the API\n",
    "def get_financial_data(ticker):\n",
    "    API_KEY = '974b9b83d36dc48184eb17242d335148'\n",
    "    base_url = 'https://financialmodelingprep.com/api/v3'\n",
    "    income_url = f'{base_url}/financials/income-statement/{ticker}?apikey={API_KEY}'\n",
    "    cash_flow_url = f'{base_url}/financials/cash-flow-statement/{ticker}?apikey={API_KEY}'\n",
    "    BS_url = f'{base_url}/financials/balance-sheet-statement/{ticker}?apikey={API_KEY}'\n",
    "    \n",
    "    try:\n",
    "        #request sent by web browser to the requests library then to a server to retrieve financial data\n",
    "        #this line sends an HTTP GET request to the URL specified in income_url\n",
    "        income_response = requests.get(income_url)\n",
    "        cash_flow_response = requests.get(cash_flow_url)\n",
    "        bs_response = requests.get(BS_url)\n",
    "\n",
    "        #parses the JSON response received from the server into a Python dictionary.\n",
    "        #attempts to retrieve the value associated with the key 'financials' from the parsed JSON data\n",
    "        #When you receive data in the form of JSON, parsing involves converting that JSON string into a data structure that your programming language can manipulate. \n",
    "        income_data = income_response.json().get('financials', [])\n",
    "        cash_flow_data = cash_flow_response.json().get('financials', [])\n",
    "        bs_data = bs_response.json().get('financials', [])\n",
    "\n",
    "        #his condition checks if all the necessary financial data (income_data, cash_flow_data, and bs_data) have been successfully retrieved from the API\n",
    "        if income_data and cash_flow_data and bs_data:\n",
    "            #This line extracts the value of \"Free Cash Flow\" from the first item of the cash_flow_data list (assuming it's present) and converts it to a floating-point number. If \"Free Cash Flow\" is not found, it defaults to 0.\n",
    "            initial_cash_flow = float(cash_flow_data[0].get('Free Cash Flow', 0))\n",
    "            #This line calculates the growth rate based on revenue data from the income_data list. It computes the percentage change in revenue from one period to the next.\n",
    "            growth_rate = (float(income_data[0].get('Revenue', 0)) - float(income_data[1].get('Revenue', 0))) / float(income_data[1].get('Revenue', 1))\n",
    "            #extracts the value of \"Net Debt\"\n",
    "            net_debt = float(bs_data[0].get('Net Debt', 0))\n",
    "            shares_outstanding = float(input(\"Enter the number of shares issued: \"))  # Prompt user input for shares issued\n",
    "            return initial_cash_flow, growth_rate, net_debt, shares_outstanding\n",
    "        else:\n",
    "            #error message indicating the nature of the problem and then returns None values for all variables, indicating that there was a failure in fetching the data.\n",
    "            return None, None, None, None\n",
    "    except (KeyError, ValueError):\n",
    "        return None, None, None, None\n",
    "    except requests.exceptions.RequestException as e:\n",
    "        print(\"Error fetching financial data:\", e)\n",
    "        return None, None, None, None\n",
    "\n",
    "# Get user input for assumptions\n",
    "ticker = input(\"Enter the ticker symbol: \")\n",
    "discount_rate = float(input(\"Enter the discount rate (as a decimal): \"))\n",
    "years = int(input(\"Enter the number of years for the DCF analysis: \"))\n",
    "terminal_growth_rate = float(input(\"Enter the terminal growth rate (as a decimal): \"))\n",
    "\n",
    "# Get financial data and assumptions\n",
    "initial_cash_flow, growth_rate, net_debt, shares_outstanding = get_financial_data(ticker)\n",
    "\n",
    "if initial_cash_flow is not None and growth_rate is not None:\n",
    "    # Calculate DCF\n",
    "    #DCF Built in function\n",
    "    dcf_value = calculate_dcf(initial_cash_flow, growth_rate, discount_rate, years, terminal_growth_rate)\n",
    "    print(f\"The discounted cash flow (DCF) after {years} years is: {dcf_value:.2f}\")\n",
    "\n",
    "    if shares_outstanding is not None and shares_outstanding != 0:\n",
    "        # Calculate equity value per share\n",
    "        equity_value_per_share = dcf_value / shares_outstanding\n",
    "        print(f\"The equity value per share is: {equity_value_per_share:.2f}\")\n",
    "    else:\n",
    "        print(\"Failed to retrieve shares outstanding data or shares outstanding is 0.\")\n",
    "else:\n",
    "    print(\"Failed to retrieve financial data for the given ticker symbol.\")\n"
   ]
  }
 ],
 "metadata": {
  "kernelspec": {
   "display_name": "base",
   "language": "python",
   "name": "python3"
  },
  "language_info": {
   "codemirror_mode": {
    "name": "ipython",
    "version": 3
   },
   "file_extension": ".py",
   "mimetype": "text/x-python",
   "name": "python",
   "nbconvert_exporter": "python",
   "pygments_lexer": "ipython3",
   "version": "3.9.13"
  }
 },
 "nbformat": 4,
 "nbformat_minor": 2
}
